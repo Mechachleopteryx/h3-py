{
 "cells": [
  {
   "cell_type": "code",
   "execution_count": 1,
   "metadata": {},
   "outputs": [],
   "source": [
    "import h3"
   ]
  },
  {
   "cell_type": "code",
   "execution_count": 71,
   "metadata": {},
   "outputs": [],
   "source": [
    "# def hexes_at_res(res):\n",
    "#     cells = h3.get_res0_indexes()\n",
    "#     cells = h3.uncompact(cells, res)\n",
    "\n",
    "#     hexes = cells - h3.get_pentagon_indexes(res)\n",
    "    \n",
    "#     return hexes\n",
    "\n",
    "def _area_gen(cells):\n",
    "    return (\n",
    "        (h3.cell_area(c), c)\n",
    "        for c in cells\n",
    "    )\n",
    "\n",
    "def cell_extremes(cells):\n",
    "    a_min, c_min = min(_area_gen(cells))\n",
    "    a_max, c_max = max(_area_gen(cells))\n",
    "    \n",
    "    return a_min, a_max, c_min, c_max\n",
    "\n",
    "def brute_area_extremes(res, include_pentagons=False):\n",
    "    cells = h3.get_res0_indexes()\n",
    "    cells = h3.uncompact(cells, res)\n",
    "    if not include_pentagons:\n",
    "        cells -= h3.get_pentagon_indexes(res)\n",
    "    \n",
    "    a_min, a_max, c_min, c_max = cell_extremes(cells)\n",
    "    \n",
    "    return a_min, a_max, c_min, c_max\n",
    "\n",
    "\n",
    "def brute_extreme_area_hex(res, minmax=min):\n",
    "    cells = h3.get_res0_indexes()\n",
    "    cells = h3.uncompact(cells, res)\n",
    "    cells = (c for c in cells if not h3.h3_is_pentagon(c))\n",
    "    \n",
    "    h = min_or_max(cells, key=h3.cell_area)\n",
    "    \n",
    "    return h"
   ]
  },
  {
   "cell_type": "code",
   "execution_count": 3,
   "metadata": {},
   "outputs": [
    {
     "data": {
      "text/plain": [
       "1.970457453618385"
      ]
     },
     "execution_count": 3,
     "metadata": {},
     "output_type": "execute_result"
    }
   ],
   "source": [
    "a_min, a_max, c_min, c_max = brute_area_extremes(4, include_pentagons=False)\n",
    "\n",
    "a_max/a_min"
   ]
  },
  {
   "cell_type": "code",
   "execution_count": 54,
   "metadata": {},
   "outputs": [],
   "source": [
    "def extreme_kids(h, min_or_max=min, k=1):\n",
    "    cells = h3.k_ring(h, k)\n",
    "    cells = h3.uncompact(cells, h3.h3_get_resolution(h)+1)\n",
    "    cells = (c for c in cells if not h3.h3_is_pentagon(c))\n",
    "\n",
    "    h = min_or_max(cells, key=h3.cell_area)\n",
    "        \n",
    "    return h"
   ]
  },
  {
   "cell_type": "code",
   "execution_count": 55,
   "metadata": {},
   "outputs": [
    {
     "data": {
      "text/plain": [
       "'8075fffffffffff'"
      ]
     },
     "execution_count": 55,
     "metadata": {},
     "output_type": "execute_result"
    }
   ],
   "source": [
    "h = h3.geo_to_h3(0,0,0)\n",
    "h"
   ]
  },
  {
   "cell_type": "code",
   "execution_count": 56,
   "metadata": {},
   "outputs": [
    {
     "data": {
      "text/plain": [
       "'817d7ffffffffff'"
      ]
     },
     "execution_count": 56,
     "metadata": {},
     "output_type": "execute_result"
    }
   ],
   "source": [
    "extreme_area(h, max)"
   ]
  },
  {
   "cell_type": "code",
   "execution_count": 57,
   "metadata": {},
   "outputs": [],
   "source": [
    "def extreme_area_hex(res, min_or_max=min, k=1):\n",
    "    if res == 0:\n",
    "        cells = h3.get_res0_indexes()\n",
    "        return min_or_max(cells, key=h3.cell_area)\n",
    "    else:\n",
    "        h = extreme_area_hex(res-1, min_or_max)\n",
    "        h = extreme_kids(h, min_or_max=min_or_max, k=k)\n",
    "        \n",
    "        return h"
   ]
  },
  {
   "cell_type": "code",
   "execution_count": 70,
   "metadata": {},
   "outputs": [
    {
     "data": {
      "text/plain": [
       "'8f1c00000000006'"
      ]
     },
     "execution_count": 70,
     "metadata": {},
     "output_type": "execute_result"
    }
   ],
   "source": [
    "extreme_area_hex(15, min, k=1)"
   ]
  },
  {
   "cell_type": "code",
   "execution_count": 43,
   "metadata": {},
   "outputs": [
    {
     "data": {
      "text/plain": [
       "'8f1c00000000006'"
      ]
     },
     "execution_count": 43,
     "metadata": {},
     "output_type": "execute_result"
    }
   ],
   "source": [
    "extreme_area_hex(15, min)"
   ]
  },
  {
   "cell_type": "code",
   "execution_count": 27,
   "metadata": {},
   "outputs": [
    {
     "data": {
      "text/plain": [
       "585085321511698431"
      ]
     },
     "execution_count": 27,
     "metadata": {},
     "output_type": "execute_result"
    }
   ],
   "source": [
    "h = h3.h3_to_center_child(580225480116928511)\n",
    "smallest_area_hex()"
   ]
  },
  {
   "cell_type": "code",
   "execution_count": 20,
   "metadata": {},
   "outputs": [
    {
     "data": {
      "text/plain": [
       "(4106166.3344639135, 580225480116928511)"
      ]
     },
     "execution_count": 20,
     "metadata": {},
     "output_type": "execute_result"
    }
   ],
   "source": [
    "min(\n",
    "    (cell_area(h), h)\n",
    "    for h in hexes_at_res(0)\n",
    ")"
   ]
  },
  {
   "cell_type": "code",
   "execution_count": 58,
   "metadata": {},
   "outputs": [],
   "source": [
    "def min_area_hex(res):\n",
    "    if res == 0:\n",
    "        return smallest_area_hex(hexes_at_res(0))\n",
    "    else:\n",
    "        h = min_area_hex(res - 1)\n",
    "        h = h3.h3_to_center_child(h)\n",
    "        hexes = h3.k_ring(h, 5)\n",
    "        return smallest_area_hex(hexes)\n",
    "    \n",
    "def smart_min_area(res):\n",
    "    h = min_area_hex(res)\n",
    "    return cell_area(h)\n",
    "\n",
    "def max_area_hex(res):\n",
    "    if res == 0:\n",
    "        return largest_area_hex(hexes_at_res(0))\n",
    "    else:\n",
    "        h = max_area_hex(res - 1)\n",
    "        h = h3.h3_to_center_child(h)\n",
    "        hexes = h3.k_ring(h, 5)\n",
    "        return largest_area_hex(hexes)\n",
    "    \n",
    "def smart_max_area(res):\n",
    "    h = max_area_hex(res)\n",
    "    return cell_area(h)"
   ]
  },
  {
   "cell_type": "code",
   "execution_count": 72,
   "metadata": {},
   "outputs": [
    {
     "data": {
      "text/plain": [
       "1.9926353897417113"
      ]
     },
     "execution_count": 72,
     "metadata": {},
     "output_type": "execute_result"
    }
   ],
   "source": [
    "res = 9\n",
    "smart_max_area(res)/smart_min_area(res)"
   ]
  },
  {
   "cell_type": "code",
   "execution_count": 65,
   "metadata": {},
   "outputs": [
    {
     "data": {
      "text/plain": [
       "1.9844687621406298"
      ]
     },
     "execution_count": 65,
     "metadata": {},
     "output_type": "execute_result"
    }
   ],
   "source": [
    "res = 5\n",
    "brute_max_area(res)/brute_min_area(res)"
   ]
  },
  {
   "cell_type": "code",
   "execution_count": null,
   "metadata": {},
   "outputs": [],
   "source": []
  }
 ],
 "metadata": {
  "kernelspec": {
   "display_name": "Python 3",
   "language": "python",
   "name": "python3"
  },
  "language_info": {
   "codemirror_mode": {
    "name": "ipython",
    "version": 3
   },
   "file_extension": ".py",
   "mimetype": "text/x-python",
   "name": "python",
   "nbconvert_exporter": "python",
   "pygments_lexer": "ipython3",
   "version": "3.8.5"
  }
 },
 "nbformat": 4,
 "nbformat_minor": 4
}
