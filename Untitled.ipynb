{
 "cells": [
  {
   "cell_type": "code",
   "execution_count": 1,
   "metadata": {},
   "outputs": [],
   "source": [
    "from h3._cy.unstable_area import cell_area\n",
    "import h3.api.basic_int as h3\n",
    "\n",
    "import numpy as np"
   ]
  },
  {
   "cell_type": "code",
   "execution_count": 2,
   "metadata": {},
   "outputs": [],
   "source": [
    "# def hexes_at_res(res):\n",
    "#     cells = h3.get_res0_indexes()\n",
    "#     cells = h3.uncompact(cells, res)\n",
    "\n",
    "#     hexes = cells - h3.get_pentagon_indexes(res)\n",
    "    \n",
    "#     return hexes\n",
    "\n",
    "def _area_gen(cells):\n",
    "    return (\n",
    "        (cell_area(c), c)\n",
    "        for c in cells\n",
    "    )\n",
    "\n",
    "def cell_extremes(cells):\n",
    "    a_min, c_min = min(_area_gen(cells))\n",
    "    a_max, c_max = max(_area_gen(cells))\n",
    "    \n",
    "    return a_min, a_max, c_min, c_max\n",
    "\n",
    "def brute_area_extremes(res, include_pentagons=False):\n",
    "    cells = h3.get_res0_indexes()\n",
    "    cells = h3.uncompact(cells, res)\n",
    "    if not include_pentagons:\n",
    "        cells -= h3.get_pentagon_indexes(res)\n",
    "    \n",
    "    a_min, a_max, c_min, c_max = cell_extremes(cells)\n",
    "    \n",
    "    return a_min, a_max, c_min, c_max"
   ]
  },
  {
   "cell_type": "code",
   "execution_count": 3,
   "metadata": {},
   "outputs": [
    {
     "data": {
      "text/plain": [
       "1.9704574536183679"
      ]
     },
     "execution_count": 3,
     "metadata": {},
     "output_type": "execute_result"
    }
   ],
   "source": [
    "a_min, a_max, c_min, c_max = brute_area_extremes(4, include_pentagons=False)\n",
    "\n",
    "a_max/a_min"
   ]
  },
  {
   "cell_type": "code",
   "execution_count": null,
   "metadata": {},
   "outputs": [],
   "source": [
    "def min_area_hex(res):\n",
    "    if res == 0:\n",
    "        mina, maxa = brute_area_extremes(0)\n",
    "        return mina\n",
    "    else:\n",
    "        h = min_area_hex(res - 1)\n",
    "        h = h3.h3_to_center_child(h)\n",
    "        hexes = h3.k_ring(h, 5)\n",
    "        return smallest_area_hex(hexes)"
   ]
  },
  {
   "cell_type": "code",
   "execution_count": 6,
   "metadata": {},
   "outputs": [],
   "source": []
  },
  {
   "cell_type": "code",
   "execution_count": 27,
   "metadata": {},
   "outputs": [
    {
     "data": {
      "text/plain": [
       "585085321511698431"
      ]
     },
     "execution_count": 27,
     "metadata": {},
     "output_type": "execute_result"
    }
   ],
   "source": [
    "h = h3.h3_to_center_child(580225480116928511)\n",
    "smallest_area_hex()"
   ]
  },
  {
   "cell_type": "code",
   "execution_count": 20,
   "metadata": {},
   "outputs": [
    {
     "data": {
      "text/plain": [
       "(4106166.3344639135, 580225480116928511)"
      ]
     },
     "execution_count": 20,
     "metadata": {},
     "output_type": "execute_result"
    }
   ],
   "source": [
    "min(\n",
    "    (cell_area(h), h)\n",
    "    for h in hexes_at_res(0)\n",
    ")"
   ]
  },
  {
   "cell_type": "code",
   "execution_count": 58,
   "metadata": {},
   "outputs": [],
   "source": [
    "def min_area_hex(res):\n",
    "    if res == 0:\n",
    "        return smallest_area_hex(hexes_at_res(0))\n",
    "    else:\n",
    "        h = min_area_hex(res - 1)\n",
    "        h = h3.h3_to_center_child(h)\n",
    "        hexes = h3.k_ring(h, 5)\n",
    "        return smallest_area_hex(hexes)\n",
    "    \n",
    "def smart_min_area(res):\n",
    "    h = min_area_hex(res)\n",
    "    return cell_area(h)\n",
    "\n",
    "def max_area_hex(res):\n",
    "    if res == 0:\n",
    "        return largest_area_hex(hexes_at_res(0))\n",
    "    else:\n",
    "        h = max_area_hex(res - 1)\n",
    "        h = h3.h3_to_center_child(h)\n",
    "        hexes = h3.k_ring(h, 5)\n",
    "        return largest_area_hex(hexes)\n",
    "    \n",
    "def smart_max_area(res):\n",
    "    h = max_area_hex(res)\n",
    "    return cell_area(h)"
   ]
  },
  {
   "cell_type": "code",
   "execution_count": 72,
   "metadata": {},
   "outputs": [
    {
     "data": {
      "text/plain": [
       "1.9926353897417113"
      ]
     },
     "execution_count": 72,
     "metadata": {},
     "output_type": "execute_result"
    }
   ],
   "source": [
    "res = 9\n",
    "smart_max_area(res)/smart_min_area(res)"
   ]
  },
  {
   "cell_type": "code",
   "execution_count": 65,
   "metadata": {},
   "outputs": [
    {
     "data": {
      "text/plain": [
       "1.9844687621406298"
      ]
     },
     "execution_count": 65,
     "metadata": {},
     "output_type": "execute_result"
    }
   ],
   "source": [
    "res = 5\n",
    "brute_max_area(res)/brute_min_area(res)"
   ]
  },
  {
   "cell_type": "code",
   "execution_count": null,
   "metadata": {},
   "outputs": [],
   "source": []
  }
 ],
 "metadata": {
  "kernelspec": {
   "display_name": "Python 3",
   "language": "python",
   "name": "python3"
  },
  "language_info": {
   "codemirror_mode": {
    "name": "ipython",
    "version": 3
   },
   "file_extension": ".py",
   "mimetype": "text/x-python",
   "name": "python",
   "nbconvert_exporter": "python",
   "pygments_lexer": "ipython3",
   "version": "3.8.5"
  }
 },
 "nbformat": 4,
 "nbformat_minor": 4
}
