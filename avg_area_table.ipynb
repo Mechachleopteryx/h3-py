{
 "cells": [
  {
   "cell_type": "code",
   "execution_count": 1,
   "metadata": {},
   "outputs": [],
   "source": [
    "import h3\n",
    "from tabulate import tabulate\n",
    "\n",
    "def num_hexagons(res):\n",
    "    return h3.num_hexagons(res) - 12\n",
    "\n",
    "def earth_area():\n",
    "    return sum(map(h3.cell_area, h3.get_res0_indexes()))\n",
    "\n",
    "def pentagon_area_total(res):\n",
    "    return sum(map(h3.cell_area, h3.get_pentagon_indexes(res)))\n",
    "\n",
    "def pentagon_area(res):\n",
    "    \"Every pentagon within a resolution actually has the same area.\"\n",
    "    return pentagon_area_total(res)/12\n",
    "\n",
    "def hexagon_area_avg(res):\n",
    "    A = earth_area() - pentagon_area_total(res)\n",
    "    \n",
    "    A = A/num_hexagons(res)\n",
    "    \n",
    "    return A\n",
    "\n",
    "def stats():\n",
    "    \"\"\"\n",
    "    For each resolution yield:\n",
    "    - resolution\n",
    "    - average *hex* area\n",
    "    - *uniform* pentagon area\n",
    "    - ratio of pentagon/hex areas\n",
    "    \"\"\"\n",
    "    for res in range(16):\n",
    "        h = hexagon_area_avg(res)\n",
    "        p = pentagon_area(res)\n",
    "\n",
    "        yield res, h, p, p/h"
   ]
  },
  {
   "cell_type": "code",
   "execution_count": 2,
   "metadata": {},
   "outputs": [
    {
     "name": "stdout",
     "output_type": "stream",
     "text": [
      " 0  4,357,449.416078384  2,562,182.162955496  0.588000\n",
      " 1    609,788.441794133    328,434.586246469  0.538604\n",
      " 2     86,801.780398997     44,930.898497879  0.517626\n",
      " 3     12,393.434655088      6,315.472267516  0.509582\n",
      " 4      1,770.347654491        896.582383141  0.506444\n",
      " 5        252.903858182        127.785583023  0.505273\n",
      " 6         36.129062164         18.238749548  0.504822\n",
      " 7          5.161293360          2.604669397  0.504654\n",
      " 8          0.737327598          0.372048038  0.504590\n",
      " 9          0.105332513          0.053147195  0.504566\n",
      "10          0.015047502          0.007592318  0.504557\n",
      "11          0.002149643          0.001084609  0.504553\n",
      "12          0.000307092          0.000154944  0.504552\n",
      "13          0.000043870          0.000022135  0.504551\n",
      "14          0.000006267          0.000003162  0.504551\n",
      "15          0.000000895          0.000000452  0.504551\n"
     ]
    }
   ],
   "source": [
    "res_fmt = '{:2d}'\n",
    "float_fmt = '{:20,.9f}'\n",
    "ratio_fmt = '{:.6f}'\n",
    "\n",
    "fmt = f'{res_fmt} {float_fmt} {float_fmt}  {ratio_fmt}'\n",
    "\n",
    "for res, h, p, ratio in stats():\n",
    "    print(fmt.format(res, h, p, ratio))"
   ]
  },
  {
   "cell_type": "code",
   "execution_count": 3,
   "metadata": {},
   "outputs": [
    {
     "data": {
      "text/plain": [
       "[(0, ' 4,357,449.416078384', ' 2,562,182.162955496', '0.588000'),\n",
       " (1, '   609,788.441794133', '   328,434.586246469', '0.538604'),\n",
       " (2, '    86,801.780398997', '    44,930.898497879', '0.517626'),\n",
       " (3, '    12,393.434655088', '     6,315.472267516', '0.509582'),\n",
       " (4, '     1,770.347654491', '       896.582383141', '0.506444'),\n",
       " (5, '       252.903858182', '       127.785583023', '0.505273'),\n",
       " (6, '        36.129062164', '        18.238749548', '0.504822'),\n",
       " (7, '         5.161293360', '         2.604669397', '0.504654'),\n",
       " (8, '         0.737327598', '         0.372048038', '0.504590'),\n",
       " (9, '         0.105332513', '         0.053147195', '0.504566'),\n",
       " (10, '         0.015047502', '         0.007592318', '0.504557'),\n",
       " (11, '         0.002149643', '         0.001084609', '0.504553'),\n",
       " (12, '         0.000307092', '         0.000154944', '0.504552'),\n",
       " (13, '         0.000043870', '         0.000022135', '0.504551'),\n",
       " (14, '         0.000006267', '         0.000003162', '0.504551'),\n",
       " (15, '         0.000000895', '         0.000000452', '0.504551')]"
      ]
     },
     "execution_count": 3,
     "metadata": {},
     "output_type": "execute_result"
    }
   ],
   "source": [
    "def fmt_float(x):\n",
    "    s = float_fmt\n",
    "    return s.format(x)\n",
    "\n",
    "def fmt_ratio(x):\n",
    "    s = ratio_fmt\n",
    "    return s.format(x)\n",
    "\n",
    "fmt_stats = [\n",
    "    (a, fmt_float(b), fmt_float(c), fmt_ratio(d))\n",
    "    for a,b,c,d in stats()\n",
    "]\n",
    "\n",
    "fmt_stats"
   ]
  },
  {
   "cell_type": "code",
   "execution_count": 4,
   "metadata": {},
   "outputs": [
    {
     "name": "stdout",
     "output_type": "stream",
     "text": [
      "|   Res |   Average <ins>Hexagon</ins><br>Area (km^2) |   Pentagon Area* (km^2) |   (P/H) Ratio |\n",
      "|------:|--------------------------------------------:|------------------------:|--------------:|\n",
      "|     0 |                         4,357,449.416078384 |     2,562,182.162955496 |      0.588000 |\n",
      "|     1 |                           609,788.441794133 |       328,434.586246469 |      0.538604 |\n",
      "|     2 |                            86,801.780398997 |        44,930.898497879 |      0.517626 |\n",
      "|     3 |                            12,393.434655088 |         6,315.472267516 |      0.509582 |\n",
      "|     4 |                             1,770.347654491 |           896.582383141 |      0.506444 |\n",
      "|     5 |                               252.903858182 |           127.785583023 |      0.505273 |\n",
      "|     6 |                                36.129062164 |            18.238749548 |      0.504822 |\n",
      "|     7 |                                 5.161293360 |             2.604669397 |      0.504654 |\n",
      "|     8 |                                 0.737327598 |             0.372048038 |      0.504590 |\n",
      "|     9 |                                 0.105332513 |             0.053147195 |      0.504566 |\n",
      "|    10 |                                 0.015047502 |             0.007592318 |      0.504557 |\n",
      "|    11 |                                 0.002149643 |             0.001084609 |      0.504553 |\n",
      "|    12 |                                 0.000307092 |             0.000154944 |      0.504552 |\n",
      "|    13 |                                 0.000043870 |             0.000022135 |      0.504551 |\n",
      "|    14 |                                 0.000006267 |             0.000003162 |      0.504551 |\n",
      "|    15 |                                 0.000000895 |             0.000000452 |      0.504551 |\n",
      "\n",
      "*: Within a given resolution, all pentagons have the same area.\n"
     ]
    }
   ],
   "source": [
    "headers = [\n",
    "    'Res',\n",
    "    'Average <ins>Hexagon</ins><br>Area (km^2)',\n",
    "    'Pentagon Area* (km^2)',\n",
    "    '(P/H) Ratio'\n",
    "]\n",
    "out = tabulate(fmt_stats, headers=headers, tablefmt='pipe', stralign='right', disable_numparse=True)\n",
    "\n",
    "print(out)\n",
    "print('\\n*: Within a given resolution, all pentagons have the same area.')"
   ]
  },
  {
   "cell_type": "code",
   "execution_count": null,
   "metadata": {},
   "outputs": [],
   "source": []
  }
 ],
 "metadata": {
  "kernelspec": {
   "display_name": "Python 3",
   "language": "python",
   "name": "python3"
  },
  "language_info": {
   "codemirror_mode": {
    "name": "ipython",
    "version": 3
   },
   "file_extension": ".py",
   "mimetype": "text/x-python",
   "name": "python",
   "nbconvert_exporter": "python",
   "pygments_lexer": "ipython3",
   "version": "3.8.5"
  }
 },
 "nbformat": 4,
 "nbformat_minor": 4
}
