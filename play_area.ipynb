{
 "cells": [
  {
   "cell_type": "markdown",
   "metadata": {},
   "source": [
    "# todo\n",
    "\n",
    "- use geopandas to compute area: https://geopandas.org/data_structures.html\n",
    "- h3 into geopandas?"
   ]
  },
  {
   "cell_type": "code",
   "execution_count": 1,
   "metadata": {},
   "outputs": [],
   "source": [
    "from h3._cy.unstable_area import cell_area\n",
    "import h3.api.basic_int as h3\n",
    "\n",
    "import numpy as np"
   ]
  },
  {
   "cell_type": "code",
   "execution_count": 2,
   "metadata": {},
   "outputs": [],
   "source": [
    "def hexes_at_res(res):\n",
    "    cells = h3.get_res0_indexes()\n",
    "    cells = h3.uncompact(cells, res)\n",
    "\n",
    "    hexes = cells - h3.get_pentagon_indexes(res)\n",
    "    \n",
    "    return hexes\n",
    "\n",
    "def pentagon_area_avg(res):\n",
    "    return np.mean([cell_area(p) for p in h3.get_pentagon_indexes(res)])\n",
    "\n",
    "\n",
    "def hexagon_area_avg(res):\n",
    "    hexes = hexes_at_res(res)\n",
    "\n",
    "    return np.mean([cell_area(h) for h in hexes])"
   ]
  },
  {
   "cell_type": "code",
   "execution_count": 3,
   "metadata": {},
   "outputs": [
    {
     "name": "stdout",
     "output_type": "stream",
     "text": [
      "pent_avg(0)/pent_avg(1): 7.801194728720636\n",
      "pent_avg(1)/pent_avg(2): 7.309771164758057\n",
      "pent_avg(2)/pent_avg(3): 7.1144162454781394\n",
      "pent_avg(3)/pent_avg(4): 7.043939727427411\n",
      "pent_avg(4)/pent_avg(5): 7.016303106582753\n",
      "pent_avg(5)/pent_avg(6): 7.0062688612258475\n",
      "pent_avg(6)/pent_avg(7): 7.002328037884673\n",
      "pent_avg(7)/pent_avg(8): 7.000895397448314\n",
      "pent_avg(8)/pent_avg(9): 7.000332537392249\n",
      "pent_avg(9)/pent_avg(10): 7.00012792974227\n",
      "pent_avg(10)/pent_avg(11): 7.000047484368409\n",
      "pent_avg(11)/pent_avg(12): 7.000018294654858\n",
      "pent_avg(12)/pent_avg(13): 7.000006754900207\n",
      "pent_avg(13)/pent_avg(14): 7.000002622034447\n",
      "pent_avg(14)/pent_avg(15): 7.00000089830143\n"
     ]
    }
   ],
   "source": [
    "for i in range(15):\n",
    "    r = pentagon_area_avg(i)/pentagon_area_avg(i+1)\n",
    "\n",
    "    print(f'pent_avg({i})/pent_avg({i+1}): {r}')"
   ]
  },
  {
   "cell_type": "code",
   "execution_count": 4,
   "metadata": {},
   "outputs": [
    {
     "name": "stdout",
     "output_type": "stream",
     "text": [
      "hex_avg(0)/hex_avg(1): 7.145837994413481\n",
      "hex_avg(1)/hex_avg(2): 7.025068368556221\n",
      "hex_avg(2)/hex_avg(3): 7.003851863076998\n",
      "hex_avg(3)/hex_avg(4): 7.000565467269358\n",
      "hex_avg(4)/hex_avg(5): 7.0000816405804525\n",
      "CPU times: user 11.2 s, sys: 249 ms, total: 11.5 s\n",
      "Wall time: 11.5 s\n"
     ]
    }
   ],
   "source": [
    "%%time\n",
    "for i in range(5):\n",
    "    r = hexagon_area_avg(i)/hexagon_area_avg(i+1)\n",
    "\n",
    "    print(f'hex_avg({i})/hex_avg({i+1}): {r}')"
   ]
  },
  {
   "cell_type": "code",
   "execution_count": 5,
   "metadata": {},
   "outputs": [
    {
     "name": "stdout",
     "output_type": "stream",
     "text": [
      "hex_avg(0)/pent_avg(0): 1.7006790067775814\n",
      "hex_avg(1)/pent_avg(1): 1.8566511182161325\n",
      "hex_avg(2)/pent_avg(2): 1.9318950499753382\n",
      "hex_avg(3)/pent_avg(3): 1.9623923801930714\n",
      "hex_avg(4)/pent_avg(4): 1.9745510148103222\n",
      "hex_avg(5)/pent_avg(5): 1.9791266917525556\n",
      "CPU times: user 9.83 s, sys: 184 ms, total: 10 s\n",
      "Wall time: 10.2 s\n"
     ]
    }
   ],
   "source": [
    "%%time\n",
    "for i in range(6):\n",
    "    r = hexagon_area_avg(i)/pentagon_area_avg(i)\n",
    "\n",
    "    print(f'hex_avg({i})/pent_avg({i}): {r}')"
   ]
  },
  {
   "cell_type": "code",
   "execution_count": 6,
   "metadata": {},
   "outputs": [],
   "source": [
    "def num_hexagons(res):\n",
    "    return h3.num_hexagons(res) - 12\n",
    "\n",
    "def earth_area():\n",
    "    return sum(map(cell_area, h3.get_res0_indexes()))\n",
    "\n",
    "def pentagon_area_total(res):\n",
    "    return sum(map(cell_area, h3.get_pentagon_indexes(res)))\n",
    "\n",
    "def implied_hex_area_avg(res):\n",
    "    A = earth_area() - pentagon_area_total(res)\n",
    "    \n",
    "    A = A/num_hexagons(res)\n",
    "    \n",
    "    return A"
   ]
  },
  {
   "cell_type": "code",
   "execution_count": 7,
   "metadata": {},
   "outputs": [
    {
     "data": {
      "text/plain": [
       "0.9999999999999993"
      ]
     },
     "execution_count": 7,
     "metadata": {},
     "output_type": "execute_result"
    }
   ],
   "source": [
    "implied_hex_area_avg(0)/hexagon_area_avg(0)"
   ]
  },
  {
   "cell_type": "code",
   "execution_count": 8,
   "metadata": {},
   "outputs": [
    {
     "data": {
      "text/plain": [
       "0.9999999999651914"
      ]
     },
     "execution_count": 8,
     "metadata": {},
     "output_type": "execute_result"
    }
   ],
   "source": [
    "implied_hex_area_avg(1)/hexagon_area_avg(1)"
   ]
  },
  {
   "cell_type": "code",
   "execution_count": 9,
   "metadata": {},
   "outputs": [
    {
     "data": {
      "text/plain": [
       "0.9999999999999993"
      ]
     },
     "execution_count": 9,
     "metadata": {},
     "output_type": "execute_result"
    }
   ],
   "source": [
    "implied_hex_area_avg(2)/hexagon_area_avg(2)"
   ]
  },
  {
   "cell_type": "markdown",
   "metadata": {},
   "source": [
    "# Verify area calculation against another library"
   ]
  },
  {
   "cell_type": "code",
   "execution_count": 10,
   "metadata": {},
   "outputs": [
    {
     "name": "stdout",
     "output_type": "stream",
     "text": [
      "1.0474325063587727e-08\n",
      "CPU times: user 5.28 s, sys: 305 ms, total: 5.59 s\n",
      "Wall time: 5.48 s\n"
     ]
    }
   ],
   "source": [
    "%%time\n",
    "from other_libs import area_sp\n",
    "\n",
    "res = 2\n",
    "cells = h3.get_res0_indexes()\n",
    "cells = h3.uncompact(cells, res)\n",
    "\n",
    "relative_error = max(\n",
    "    np.abs(area_sp(h) - cell_area(h))/area_sp(h)\n",
    "    for h in cells\n",
    ")\n",
    "\n",
    "print(relative_error)"
   ]
  },
  {
   "cell_type": "markdown",
   "metadata": {},
   "source": [
    "# All pentagons have the same area?\n",
    "\n",
    "yup!"
   ]
  },
  {
   "cell_type": "code",
   "execution_count": 13,
   "metadata": {},
   "outputs": [
    {
     "name": "stdout",
     "output_type": "stream",
     "text": [
      "max(0)/min(0): 1.0000000000000038\n",
      "max(1)/min(1): 1.000000000000005\n",
      "max(2)/min(2): 1.0000000000000229\n",
      "max(3)/min(3): 1.00000000000006\n",
      "max(4)/min(4): 1.0000000000001132\n",
      "max(5)/min(5): 1.0000000000001688\n",
      "max(6)/min(6): 1.0000000000012332\n",
      "max(7)/min(7): 1.000000000001489\n",
      "max(8)/min(8): 1.0000000000088223\n",
      "max(9)/min(9): 1.0000000000120937\n",
      "max(10)/min(10): 1.0000000000504559\n",
      "max(11)/min(11): 1.0000000001106233\n",
      "max(12)/min(12): 1.000000000318745\n",
      "max(13)/min(13): 1.000000000586714\n",
      "max(14)/min(14): 1.0000000034405727\n"
     ]
    }
   ],
   "source": [
    "for i in range(15):\n",
    "    areas = map(cell_area, h3.get_pentagon_indexes(i))\n",
    "    areas = list(areas)\n",
    "    \n",
    "    ratio = max(areas)/min(areas)\n",
    "\n",
    "    print(f'max({i})/min({i}): {ratio}')"
   ]
  },
  {
   "cell_type": "code",
   "execution_count": null,
   "metadata": {},
   "outputs": [],
   "source": []
  }
 ],
 "metadata": {
  "kernelspec": {
   "display_name": "Python 3",
   "language": "python",
   "name": "python3"
  },
  "language_info": {
   "codemirror_mode": {
    "name": "ipython",
    "version": 3
   },
   "file_extension": ".py",
   "mimetype": "text/x-python",
   "name": "python",
   "nbconvert_exporter": "python",
   "pygments_lexer": "ipython3",
   "version": "3.8.5"
  }
 },
 "nbformat": 4,
 "nbformat_minor": 4
}
